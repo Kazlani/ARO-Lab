{
 "cells": [
  {
   "cell_type": "code",
   "execution_count": 95,
   "id": "1b493386",
   "metadata": {},
   "outputs": [],
   "source": [
    "import pinocchio as pin \n",
    "import numpy as np\n",
    "import time\n",
    "from scipy.optimize import fmin_bfgs,fmin_slsqp\n",
    "from numpy.linalg import pinv,inv,norm,svd,eig\n",
    "from tools import collision, getcubeplacement, setcubeplacement, projecttojointlimits\n",
    "from config import LEFT_HOOK, RIGHT_HOOK, LEFT_HAND, RIGHT_HAND, EPSILON\n",
    "from config import CUBE_PLACEMENT, CUBE_PLACEMENT_TARGET\n",
    "\n",
    "from tools import setcubeplacement"
   ]
  },
  {
   "cell_type": "code",
   "execution_count": 142,
   "id": "2ed7415d",
   "metadata": {},
   "outputs": [],
   "source": [
    "def cost(q):\n",
    "    oMcube  = getcubeplacement(cube) #origin of the cube\n",
    "    oMcubeL = getcubeplacement(cube, LEFT_HOOK) #placement of the left hand hook\n",
    "    oMcubeR = getcubeplacement(cube, RIGHT_HOOK) #placement of the right hand hook\n",
    "    \n",
    "    pin.framesForwardKinematics(robot.model,robot.data,q)   \n",
    "    pin.computeJointJacobians(robot.model,robot.data,q)\n",
    "    \n",
    "    frameidL = robot.model.getFrameId(LEFT_HAND)\n",
    "    oMframeL = robot.data.oMf[frameidL]\n",
    "    frameidR = robot.model.getFrameId(RIGHT_HAND)\n",
    "    oMframeR = robot.data.oMf[frameidR]\n",
    "    \n",
    "    L_hand_tran = oMframeL.translation - oMcubeL.translation\n",
    "    R_hand_tran = oMframeR.translation - oMcubeR.translation\n",
    "    L_hand_rot = oMframeL.rotation - oMcubeL.rotation\n",
    "    R_hand_rot = oMframeR.rotation - oMcubeR.rotation\n",
    "    \n",
    "    #hand_tran = oMframeL.translation\n",
    "    #hook_tran = oMcubeL.translation\n",
    "    #hand_rot = oMframeL.rotation\n",
    "    #hook_rot = oMcubeL.rotation\n",
    "    L_hand_difference = np.linalg.norm(L_hand_tran)**2 + np.linalg.norm(L_hand_rot)**2\n",
    "    R_hand_difference = np.linalg.norm(R_hand_tran)**2 + np.linalg.norm(R_hand_rot)**2\n",
    "    \n",
    "    return R_hand_difference + L_hand_difference"
   ]
  },
  {
   "cell_type": "code",
   "execution_count": 143,
   "id": "814d509c",
   "metadata": {},
   "outputs": [],
   "source": [
    "def callback(q):\n",
    "    updatevisuals(viz, robot, cube, q)\n",
    "    time.sleep(.1)"
   ]
  },
  {
   "cell_type": "code",
   "execution_count": 144,
   "id": "57e40f4f",
   "metadata": {},
   "outputs": [
    {
     "name": "stdout",
     "output_type": "stream",
     "text": [
      "Optimization terminated successfully.\n",
      "         Current function value: 0.000000\n",
      "         Iterations: 34\n",
      "         Function evaluations: 624\n",
      "         Gradient evaluations: 39\n",
      "\n",
      " *** Optimal configuration from BFGS = [-3.35219172e-01  0.00000000e+00  0.00000000e+00 -9.24865003e-01\n",
      " -2.13362242e-02 -2.17579274e-01  3.11936244e-07  2.38916007e-01\n",
      " -2.39916259e-01 -2.18930331e-01 -2.99015137e-01  9.37001871e-02\n",
      "  7.63676000e-07  2.05315748e-01  2.19733403e+00] \n",
      "\n",
      "\n",
      "\n",
      "\n"
     ]
    }
   ],
   "source": [
    "# %load tp2/generated/configuration_reduced_optim\n",
    "q = robot.q0.copy() \n",
    "qopt_bfgs = fmin_bfgs(cost,q, callback=callback)\n",
    "print('\\n *** Optimal configuration from BFGS = %s \\n\\n\\n\\n' % qopt_bfgs)"
   ]
  },
  {
   "cell_type": "code",
   "execution_count": 134,
   "id": "2bf149cf",
   "metadata": {},
   "outputs": [],
   "source": [
    "def computeqgrasppose(robot, qcurrent, cube, cubetarget, viz=None):\n",
    "    '''Return a collision free configuration grasping a cube at a specific location and a success flag'''\n",
    "    setcubeplacement(robot, cube, cubetarget)\n",
    "    \n",
    "    # %load tp2/generated/configuration_reduced_optim\n",
    "    q = robot.q0.copy() \n",
    "    qopt_bfgs = fmin_bfgs(cost,q, callback=callback)\n",
    "    print('\\n *** Optimal configuration from BFGS = %s \\n\\n\\n\\n' % qopt_bfgs)\n",
    "\n",
    "\n",
    "    return qopt_bfgs, False\n",
    "            "
   ]
  },
  {
   "cell_type": "code",
   "execution_count": 145,
   "id": "b5b82839",
   "metadata": {},
   "outputs": [
    {
     "name": "stdout",
     "output_type": "stream",
     "text": [
      "Wrapper tries to connect to server <tcp://127.0.0.1:6004>\n",
      "You can open the visualizer by visiting the following URL:\n",
      "http://127.0.0.1:7004/static/\n",
      "Optimization terminated successfully.\n",
      "         Current function value: 0.000000\n",
      "         Iterations: 33\n",
      "         Function evaluations: 592\n",
      "         Gradient evaluations: 37\n",
      "\n",
      " *** Optimal configuration from BFGS = [ 1.27001940e-01  0.00000000e+00  0.00000000e+00 -1.51057818e-01\n",
      "  3.21841913e-02 -2.70865357e-01  1.41538747e-06  2.38680038e-01\n",
      " -1.47594526e+00  4.89201687e-01  1.14989471e-01 -3.49028086e-01\n",
      " -2.79294207e-08  2.34037898e-01  1.02698129e+00] \n",
      "\n",
      "\n",
      "\n",
      "\n",
      "Optimization terminated successfully.\n",
      "         Current function value: 0.000000\n",
      "         Iterations: 34\n",
      "         Function evaluations: 624\n",
      "         Gradient evaluations: 39\n",
      "\n",
      " *** Optimal configuration from BFGS = [-3.35219172e-01  0.00000000e+00  0.00000000e+00 -9.24865003e-01\n",
      " -2.13362242e-02 -2.17579274e-01  3.11936244e-07  2.38916007e-01\n",
      " -2.39916259e-01 -2.18930331e-01 -2.99015137e-01  9.37001871e-02\n",
      "  7.63676000e-07  2.05315748e-01  2.19733403e+00] \n",
      "\n",
      "\n",
      "\n",
      "\n"
     ]
    }
   ],
   "source": [
    "if __name__ == \"__main__\":\n",
    "    from tools import setupwithmeshcat\n",
    "    from setup_meshcat import updatevisuals\n",
    "    robot, cube, viz = setupwithmeshcat(url=\"tcp://127.0.0.1:6004\")\n",
    "    \n",
    "    q = robot.q0.copy()\n",
    "    \n",
    "    qe,successend = computeqgrasppose(robot, q, cube, CUBE_PLACEMENT_TARGET,  viz)\n",
    "    q0, successinit = computeqgrasppose(robot, q, cube, CUBE_PLACEMENT, viz)\n",
    "    \n",
    "    updatevisuals(viz, robot, cube, qe)\n",
    "    \n",
    "    "
   ]
  },
  {
   "cell_type": "code",
   "execution_count": 136,
   "id": "1a8cfdb3",
   "metadata": {},
   "outputs": [],
   "source": [
    "from config import LEFT_HOOK, RIGHT_HOOK, CUBE_PLACEMENT, CUBE_PLACEMENT_TARGET\n",
    "\n",
    "from tools import getcubeplacement, setcubeplacement\n",
    "from setup_meshcat import updatevisuals\n",
    "\n",
    "#We can access the current cube position using\n",
    "oMcube  = getcubeplacement(cube) #origin of the cube\n",
    "oMcubeL = getcubeplacement(cube, LEFT_HOOK) #placement of the left hand hook\n",
    "oMcubeR = getcubeplacement(cube, RIGHT_HOOK) #placement of the right hand hook\n",
    "\n",
    "#the cube position is updated using the following function:\n",
    "setcubeplacement(robot, cube, CUBE_PLACEMENT)\n",
    "#to update the frames for both the robot and the cube you can call\n",
    "updatevisuals(viz, robot, cube, q)\n"
   ]
  },
  {
   "cell_type": "code",
   "execution_count": 137,
   "id": "1687f8a5",
   "metadata": {},
   "outputs": [
    {
     "name": "stdout",
     "output_type": "stream",
     "text": [
      "  R =\n",
      "1 0 0\n",
      "0 1 0\n",
      "0 0 1\n",
      "  p =  0.33 -0.25  0.93\n",
      "\n",
      "  R =\n",
      "0.0707372 -0.997495         0\n",
      " 0.997495 0.0707372         0\n",
      "        0         0         1\n",
      "  p =  0.45  0.28 0.851\n",
      "\n"
     ]
    }
   ],
   "source": [
    "    oMcube  = getcubeplacement(cube) #origin of the cube\n",
    "    oMcubeL = getcubeplacement(cube, LEFT_HOOK) #placement of the left hand hook\n",
    "    oMcubeR = getcubeplacement(cube, RIGHT_HOOK) #placement of the right hand hook\n",
    "    #update the frame positions in robot.data given q\n",
    "    pin.framesForwardKinematics(robot.model,robot.data,q)   \n",
    "    pin.computeJointJacobians(robot.model,robot.data,q)\n",
    "    frameidL = robot.model.getFrameId(LEFT_HAND)\n",
    "    frameidR = robot.model.getFrameId(RIGHT_HAND)   \n",
    "    oMframeL = robot.data.oMf[frameidL] \n",
    "    oMframeR = robot.data.oMf[frameidR]\n",
    "    \n",
    "    print(oMcubeL)\n",
    "    #print(oMcubeR.translation)\n",
    "    print(oMframeL)\n",
    "    #print(oMframeR.translation)"
   ]
  },
  {
   "cell_type": "code",
   "execution_count": null,
   "id": "19f0dd4d",
   "metadata": {},
   "outputs": [],
   "source": []
  }
 ],
 "metadata": {
  "kernelspec": {
   "display_name": "Python 3 (ipykernel)",
   "language": "python",
   "name": "python3"
  },
  "language_info": {
   "codemirror_mode": {
    "name": "ipython",
    "version": 3
   },
   "file_extension": ".py",
   "mimetype": "text/x-python",
   "name": "python",
   "nbconvert_exporter": "python",
   "pygments_lexer": "ipython3",
   "version": "3.10.12"
  }
 },
 "nbformat": 4,
 "nbformat_minor": 5
}
